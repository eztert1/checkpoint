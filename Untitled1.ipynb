{
 "cells": [
  {
   "cell_type": "code",
   "execution_count": 2,
   "id": "9b86b1d0-7179-48d2-a142-e94f42e6e3a0",
   "metadata": {},
   "outputs": [],
   "source": [
    "import tkinter as tk\n",
    "def fahrenheit_to_celsius():\n",
    "    try:\n",
    "        fahrenheit = float(temperature.get())\n",
    "        celsius = (fahrenheit - 32) * 5 / 9\n",
    "        result[\"text\"] = f\"{celsius:.2f} \\N{DEGREE CELSIUS}\"\n",
    "    except ValueError:\n",
    "        result[\"text\"] = \"Invalid input\"\n",
    "window = tk.Tk()\n",
    "window.title(\"Temperature Converter\")\n",
    "window.resizable(width=False, height=False)\n",
    "entry = tk.Frame(master=window)\n",
    "temperature = tk.Entry(master=entry, width=10)\n",
    "temp = tk.Label(master=entry, text=\"\\N{DEGREE FAHRENHEIT}\")\n",
    "temperature.grid(row=0, column=0, sticky=\"e\")\n",
    "temp.grid(row=0, column=1, sticky=\"w\")\n",
    "convert = tk.Button(\n",
    "    master=window, \n",
    "    text=\"\\N{RIGHTWARDS BLACK ARROW}\", \n",
    "    command=fahrenheit_to_celsius\n",
    ")\n",
    "result = tk.Label(master=window, text=\"\\N{DEGREE CELSIUS}\")\n",
    "entry.grid(row=0, column=0, padx=10)\n",
    "convert.grid(row=0, column=1, pady=10)\n",
    "result.grid(row=0, column=2, padx=10)\n",
    "window.mainloop()\n"
   ]
  },
  {
   "cell_type": "code",
   "execution_count": null,
   "id": "2ead3035-6b87-4d93-af55-441bf8f75c1c",
   "metadata": {},
   "outputs": [],
   "source": []
  }
 ],
 "metadata": {
  "kernelspec": {
   "display_name": "Python [conda env:base] *",
   "language": "python",
   "name": "conda-base-py"
  },
  "language_info": {
   "codemirror_mode": {
    "name": "ipython",
    "version": 3
   },
   "file_extension": ".py",
   "mimetype": "text/x-python",
   "name": "python",
   "nbconvert_exporter": "python",
   "pygments_lexer": "ipython3",
   "version": "3.12.7"
  }
 },
 "nbformat": 4,
 "nbformat_minor": 5
}
